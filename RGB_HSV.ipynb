{
 "cells": [
  {
   "cell_type": "code",
   "execution_count": 1,
   "metadata": {},
   "outputs": [],
   "source": [
    "def RGB2HSV(R,G,B):\n",
    "    R=R/255\n",
    "    G=G/255\n",
    "    B=B/255\n",
    "\n",
    "    Cmax=max(R,G,B)\n",
    "    Cmin=min(R,G,B)\n",
    "    diff = Cmax-Cmin\n",
    "    if Cmax==Cmin:\n",
    "        H=0\n",
    "    else:\n",
    "        if Cmax==R:\n",
    "            H=(60*((G-B)/diff)+360)%300\n",
    "        if Cmax==G:\n",
    "            H=(60*((B-R)/diff)+120)%300\n",
    "        if Cmax==B:\n",
    "            H=(60*((R-G)/diff)+240)%300\n",
    "    if Cmax==0:\n",
    "        S=0\n",
    "    else:\n",
    "        S=(diff/Cmax)*100\n",
    "    V=Cmax*100\n",
    "\n",
    "    return H,S,V"
   ]
  },
  {
   "cell_type": "code",
   "execution_count": 2,
   "metadata": {},
   "outputs": [
    {
     "data": {
      "text/plain": [
       "(289.9492385786802, 83.47457627118644, 92.54901960784314)"
      ]
     },
     "execution_count": 2,
     "metadata": {},
     "output_type": "execute_result"
    }
   ],
   "source": [
    "RGB2HSV(203,39,236)"
   ]
  }
 ],
 "metadata": {
  "kernelspec": {
   "display_name": "Python 3",
   "language": "python",
   "name": "python3"
  },
  "language_info": {
   "codemirror_mode": {
    "name": "ipython",
    "version": 3
   },
   "file_extension": ".py",
   "mimetype": "text/x-python",
   "name": "python",
   "nbconvert_exporter": "python",
   "pygments_lexer": "ipython3",
   "version": "3.11.11"
  }
 },
 "nbformat": 4,
 "nbformat_minor": 2
}
